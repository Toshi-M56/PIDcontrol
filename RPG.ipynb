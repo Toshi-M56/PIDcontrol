{
  "cells": [
    {
      "cell_type": "markdown",
      "metadata": {
        "id": "view-in-github",
        "colab_type": "text"
      },
      "source": [
        "<a href=\"https://colab.research.google.com/github/Toshi-M56/PIDcontrol/blob/main/RPG.ipynb\" target=\"_parent\"><img src=\"https://colab.research.google.com/assets/colab-badge.svg\" alt=\"Open In Colab\"/></a>"
      ]
    },
    {
      "cell_type": "code",
      "execution_count": null,
      "metadata": {
        "id": "fROkLkLMwnb8"
      },
      "outputs": [],
      "source": [
        "\n",
        "class  Character:\n",
        "    def __init__(self,name, hp=100, strength=20):\n",
        "        self.name = name\n",
        "        self.hp = hp\n",
        "        self.max_hp = hp\n",
        "        self.strength = strength\n",
        "\n",
        "    def attack(self, target_object):\n",
        "        print(self.name+'のこうげき！')\n",
        "        target_object.damage(self.strength)\n",
        "        \n",
        "    def critical_hit(self, target_object):\n",
        "        print(self.name+'のかいしんのいちげき！！！')\n",
        "        target_object.damage(self.strength*2.0)\n",
        "        \n",
        "    def damage(self, value):\n",
        "        damage_value = max(1, value)\n",
        "        self.hp -= damage_value\n",
        "        print(self.name, 'は', damage_value, 'のダメージ！')\n",
        "        \n",
        "    def show_status(self):\n",
        "        print('#名前：',self.name,'\\t#HP:',self.hp)"
      ]
    },
    {
      "cell_type": "code",
      "execution_count": null,
      "metadata": {
        "id": "bKgJCKvK7UCC"
      },
      "outputs": [],
      "source": [
        ""
      ]
    },
    {
      "cell_type": "code",
      "execution_count": null,
      "metadata": {
        "id": "bi5pgy-_yRya"
      },
      "outputs": [],
      "source": [
        "monsterA = Character('スライムA')\n",
        "monsterB = Character('スライムB')"
      ]
    },
    {
      "cell_type": "code",
      "execution_count": null,
      "metadata": {
        "colab": {
          "base_uri": "https://localhost:8080/"
        },
        "id": "HE6alwhH0uUI",
        "outputId": "adf2c44b-a13e-484c-b86f-babd803559f0"
      },
      "outputs": [
        {
          "name": "stdout",
          "output_type": "stream",
          "text": [
            "#名前： スライムB \t#HP: 100\n",
            "スライムAのこうげき！\n",
            "スライムB は 20 のダメージ！\n",
            "#名前： スライムB \t#HP: 80\n"
          ]
        }
      ],
      "source": [
        "monsterB.show_status()\n",
        "monsterA.attack(monsterB)\n",
        "# monsterB.damage(damage)\n",
        "monsterB.show_status()\n"
      ]
    },
    {
      "cell_type": "code",
      "execution_count": null,
      "metadata": {
        "id": "bKShO__-0xsz"
      },
      "outputs": [],
      "source": [
        "class Hero(Character):\n",
        "    def __init__(self,name, hp=200, mp=100, strength=30, magic=40):\n",
        "        super().__init__(name, hp, strength)\n",
        "        self.mp = mp\n",
        "        self.magic = magic\n",
        "        \n",
        "    def magic_attack(self, target_object):\n",
        "        print(self.name+'はまほうをとなえた！')\n",
        "        self.mp -= 10\n",
        "        target_object.damage(self.magic)\n",
        "        \n",
        "    def magic_heal(self):\n",
        "        self.mp -= 10\n",
        "        print(self.name+'はかいふくまほうをとなえた．\\nHPが'+str(self.magic*2)+'かいふくした．')\n",
        "        self.hp += self.magic *2\n",
        "        self.hp = min(self.hp, self.max_hp)\n",
        "        \n",
        "    def show_status(self):\n",
        "        print('#名前：',self.name,'\\t#HP:',self.hp, '\\t#MP:',self.mp)"
      ]
    },
    {
      "cell_type": "code",
      "source": [
        ""
      ],
      "metadata": {
        "id": "-Eyr-dqOv3r1"
      },
      "execution_count": null,
      "outputs": []
    },
    {
      "cell_type": "code",
      "execution_count": null,
      "metadata": {
        "id": "vCIdIZlK7YlS"
      },
      "outputs": [],
      "source": [
        "import random\n",
        "class  Monster(Character):\n",
        "    def __init__(self,name, hp=100, strength=10, exp=5, money=10, critical=20):\n",
        "        super().__init__(name, hp, strength)\n",
        "        self.exp = exp\n",
        "        self.money = money\n",
        "        self.critical = critical\n",
        "        print(self.name+'があらわれた！')\n",
        "        \n",
        "    def random_attack(self, target_object):\n",
        "        if random.randint(0,100) > self.critical:\n",
        "            self.attack(target_object)\n",
        "        else:\n",
        "            self.critical_hit(target_object)\n"
      ]
    },
    {
      "cell_type": "code",
      "execution_count": null,
      "metadata": {
        "colab": {
          "base_uri": "https://localhost:8080/"
        },
        "id": "-D5Mra2i59sT",
        "outputId": "2edb2aa7-5b7c-4a23-a077-dc1ce52c86ed"
      },
      "outputs": [
        {
          "name": "stdout",
          "output_type": "stream",
          "text": [
            "スライムがあらわれた！\n",
            "スライムベスがあらわれた！\n"
          ]
        }
      ],
      "source": [
        "hero = Hero('勇者')\n",
        "monsterA = Monster('スライム', hp=30, strength=10, exp=2, money=2)\n",
        "monsterB = Monster('スライムベス',  hp=40, strength=20, exp=2, money=3)"
      ]
    },
    {
      "cell_type": "code",
      "execution_count": null,
      "metadata": {
        "colab": {
          "base_uri": "https://localhost:8080/"
        },
        "id": "LTPjk4yI69Hd",
        "outputId": "2a22aad2-86ef-48c0-cc70-3c9607e88257"
      },
      "outputs": [
        {
          "name": "stdout",
          "output_type": "stream",
          "text": [
            "勇者のこうげき！\n",
            "スライム は 30 のダメージ！\n"
          ]
        }
      ],
      "source": [
        "hero.attack(monsterA)"
      ]
    },
    {
      "cell_type": "code",
      "execution_count": null,
      "metadata": {
        "colab": {
          "base_uri": "https://localhost:8080/"
        },
        "id": "M6n2GWtv8V1f",
        "outputId": "59ce47f3-66d4-4f7e-89e5-e60a8db1dcd5"
      },
      "outputs": [
        {
          "name": "stdout",
          "output_type": "stream",
          "text": [
            "スライムのこうげき！\n",
            "勇者 は 10 のダメージ！\n"
          ]
        }
      ],
      "source": [
        "monsterA.random_attack(hero)"
      ]
    },
    {
      "cell_type": "code",
      "execution_count": null,
      "metadata": {
        "colab": {
          "base_uri": "https://localhost:8080/"
        },
        "id": "0n9-S1eq8Z-_",
        "outputId": "149921c0-743f-46ec-d5f0-520ab9ad7ae0"
      },
      "outputs": [
        {
          "name": "stdout",
          "output_type": "stream",
          "text": [
            "スライムベスのかいしんのいちげき！！！\n",
            "勇者 は 40.0 のダメージ！\n"
          ]
        }
      ],
      "source": [
        "monsterB.critical_hit(hero)\n",
        "# monsterB.attack(hero)"
      ]
    },
    {
      "cell_type": "code",
      "execution_count": null,
      "metadata": {
        "colab": {
          "base_uri": "https://localhost:8080/"
        },
        "id": "PVlMgdDv8ccI",
        "outputId": "cfacce30-a646-4292-dcd9-435bac31fb97"
      },
      "outputs": [
        {
          "name": "stdout",
          "output_type": "stream",
          "text": [
            "#名前： 勇者 \t#HP: 150.0 \t#MP: 100\n"
          ]
        }
      ],
      "source": [
        "hero.show_status()"
      ]
    },
    {
      "cell_type": "code",
      "execution_count": null,
      "metadata": {
        "colab": {
          "base_uri": "https://localhost:8080/"
        },
        "id": "TrC40s8E857j",
        "outputId": "0cacf411-c76e-42fd-b94b-3cf1d8ce780b"
      },
      "outputs": [
        {
          "name": "stdout",
          "output_type": "stream",
          "text": [
            "魔王があらわれた！\n"
          ]
        }
      ],
      "source": [
        "hero = Hero('勇者')\n",
        "monster = Monster('魔王', hp=200, strength=40, exp=0, money=0)"
      ]
    },
    {
      "cell_type": "code",
      "execution_count": null,
      "metadata": {
        "colab": {
          "background_save": true,
          "base_uri": "https://localhost:8080/"
        },
        "id": "YOVLHVWn-DlI",
        "outputId": "16aa6f10-a5f2-49de-f895-e38d0bc388b9"
      },
      "outputs": [
        {
          "name": "stdout",
          "output_type": "stream",
          "text": [
            "魔王があらわれた！\n",
            "#名前： 勇者 \t#HP: 200 \t#MP: 100\n",
            "1-たたかう  2-こうげきじゅもん　　３-かいふくじゅもん  4-にげる\n"
          ]
        }
      ],
      "source": [
        "hero = Hero('勇者')\n",
        "monster = Monster('魔王', hp=200, strength=40, exp=0, money=0)\n",
        "while(True):\n",
        "    hero.show_status()\n",
        "    print('1-たたかう  2-こうげきじゅもん　　３-かいふくじゅもん  4-にげる')\n",
        "    command = input('コマンド？>')\n",
        "    if command == '1':\n",
        "        hero.attack(monster)\n",
        "    elif command == '2':\n",
        "        hero.magic_attack(monster)\n",
        "    elif command == '3':\n",
        "        hero.magic_heal()\n",
        "    elif command == '4':\n",
        "        print(hero.name+'はにげだした．')\n",
        "        break\n",
        "    else:\n",
        "        continue\n",
        "        \n",
        "    if monster.hp <= 0:\n",
        "        print(monster.name+'をやっつけた.')\n",
        "        break\n",
        "    \n",
        "    print()\n",
        "    monster.random_attack(hero)\n",
        "    \n",
        "    if hero.hp <= 0:\n",
        "        print(hero.name + 'はやられてしまった．')\n",
        "        break\n",
        "       \n",
        "\n",
        "    \n",
        "    print(\"-----------------------------------------------\")\n",
        "      \n",
        "         "
      ]
    },
    {
      "cell_type": "code",
      "execution_count": null,
      "metadata": {
        "id": "OSZ0rgpeAznp"
      },
      "outputs": [],
      "source": [
        "\n"
      ]
    }
  ],
  "metadata": {
    "colab": {
      "collapsed_sections": [],
      "name": "RPG.ipynb",
      "provenance": [],
      "include_colab_link": true
    },
    "kernelspec": {
      "display_name": "Python 3",
      "name": "python3"
    }
  },
  "nbformat": 4,
  "nbformat_minor": 0
}