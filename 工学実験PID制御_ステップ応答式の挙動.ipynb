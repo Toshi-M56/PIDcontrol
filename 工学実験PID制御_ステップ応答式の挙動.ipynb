{
  "nbformat": 4,
  "nbformat_minor": 0,
  "metadata": {
    "colab": {
      "name": "工学実験PID制御_ステップ応答式の挙動.ipynb",
      "provenance": [],
      "collapsed_sections": [],
      "authorship_tag": "ABX9TyMbwCirEjFbYqovmh8jOTSj",
      "include_colab_link": true
    },
    "kernelspec": {
      "name": "python3",
      "display_name": "Python 3"
    },
    "language_info": {
      "name": "python"
    }
  },
  "cells": [
    {
      "cell_type": "markdown",
      "metadata": {
        "id": "view-in-github",
        "colab_type": "text"
      },
      "source": [
        "<a href=\"https://colab.research.google.com/github/Toshi-M56/PIDcontrol/blob/main/%E5%B7%A5%E5%AD%A6%E5%AE%9F%E9%A8%93PID%E5%88%B6%E5%BE%A1_%E3%82%B9%E3%83%86%E3%83%83%E3%83%97%E5%BF%9C%E7%AD%94%E5%BC%8F%E3%81%AE%E6%8C%99%E5%8B%95.ipynb\" target=\"_parent\"><img src=\"https://colab.research.google.com/assets/colab-badge.svg\" alt=\"Open In Colab\"/></a>"
      ]
    },
    {
      "cell_type": "code",
      "metadata": {
        "id": "QLfmADambZy0"
      },
      "source": [
        "!pip install control\n",
        "!pip install japanize_matplotlib\n",
        "import numpy as np\n",
        "from control import matlab\n",
        "from matplotlib import pyplot as plt\n",
        "import japanize_matplotlib\n",
        "plt.style.use('bmh')\n",
        "from matplotlib import animation, rc\n",
        "from IPython.display import HTML"
      ],
      "execution_count": null,
      "outputs": []
    },
    {
      "cell_type": "code",
      "metadata": {
        "id": "1UzC3LLH0lz8"
      },
      "source": [
        ""
      ],
      "execution_count": null,
      "outputs": []
    },
    {
      "cell_type": "code",
      "metadata": {
        "id": "MRmCiiZd-Vlp"
      },
      "source": [
        ""
      ],
      "execution_count": null,
      "outputs": []
    },
    {
      "cell_type": "code",
      "metadata": {
        "id": "gac-dVGt-Vh2"
      },
      "source": [
        "def function(t, Kp, Kd, show_D=True):\n",
        "    D = 12.25*Kd**2 - 7*Kp\n",
        "\n",
        "    if abs(D) < 1e-10:\n",
        "        if show_D:print(\"D=\" + str(D) + \" :D = 0\")\n",
        "        term1 = np.ones(t.shape)\n",
        "        term21 = -np.ones(t.shape)\n",
        "        term22 = np.exp(-3.5*Kd*t) \n",
        "        term2 = term21 * term22\n",
        "        term31 = -np.ones(t.shape) * (-3.5*Kd*t)\n",
        "        term32 = np.exp(-3.5*Kd*t) \n",
        "        term3 =  term31 * term32\n",
        "    elif D > 0:\n",
        "        if show_D:print(\"D=\" + str(D) + \" :D > 0\")\n",
        "        beta = np.sqrt(12.25*Kd**2 - 7*Kp)\n",
        "        # print(Kp, Kd, beta)\n",
        "        p1 = -3.5*Kd + beta\n",
        "        p2 = -3.5*Kd - beta\n",
        "        # return 1 - (1 / (2*beta))* (p1*np.exp(p1*t) - p2*np.exp(p2*t))\n",
        "        term1 = np.ones(t.shape)\n",
        "        term21 = -(1 / (2*beta)) *term1\n",
        "        term22 = p1*np.exp(p1*t) \n",
        "        term2 = term21 * term22\n",
        "        term31 =  (1 / (2*beta)) *term1\n",
        "        term32 =  p2*np.exp(p2*t)\n",
        "        term3 =  term31 * term32\n",
        "    elif D < 0:\n",
        "        if show_D:print(\"D=\" + str(D) + \" :D < 0\")\n",
        "        omega = np.sqrt(-12.25*Kd**2 + 7*Kp)\n",
        "        # return 1 - np.exp(-3.5*Kd*t) * (np.cos(omega*t) - (3.5*Kd/omega)*np.sin(omega*t))\n",
        "        term1 = np.ones(t.shape)\n",
        "        term21 = -np.cos(omega*t)\n",
        "        term22 = np.exp(-3.5*Kd*t)\n",
        "        term2 = term21 * term22\n",
        "        term31 =  (3.5*Kd/omega)*np.sin(omega*t)\n",
        "        term32 =  np.exp(-3.5*Kd*t) \n",
        "        term3 = term31 * term32\n",
        "    return term1, term2, term3, term21, term22, term31, term32"
      ],
      "execution_count": null,
      "outputs": []
    },
    {
      "cell_type": "code",
      "metadata": {
        "id": "TKqkWDYuDjkr"
      },
      "source": [
        "def plot_terms(t, term1, term2, term3, term21, term22, term31, term32):\n",
        "    fig = plt.figure(figsize=(6,10))\n",
        "    ax = fig.add_subplot(311)\n",
        "    ax.plot(t,term1, c=\"violet\",ls=\"--\", label=\"第1項\")\n",
        "    ax.plot(t,term2, c=\"green\", ls=\"--\", label=\"第2項\")\n",
        "    ax.plot(t,term3, c=\"orange\", ls=\"--\", label=\"第3項\")\n",
        "    ax.plot(t,term1+term2+term3, c=\"black\", label=\"位置\")\n",
        "    ax.set_ylim([-0.5, 1.7])\n",
        "    ax.legend()\n",
        "    ax2 = fig.add_subplot(312)\n",
        "    ax2.plot(t,term21, ls=\"--\", label=\"term21\")\n",
        "    ax2.plot(t,term22, ls=\"--\", label=\"term22\")\n",
        "    ax2.plot(t,term2, c=\"green\", label=\"第2項\")\n",
        "    ax2.legend()\n",
        "    # ax2.set_ylim([-1.5, 1.5])\n",
        "    ax3 = fig.add_subplot(313)\n",
        "    ax3.plot(t,term31, ls=\"--\", label=\"term31\")\n",
        "    ax3.plot(t,term32, ls=\"--\", label=\"term32\")\n",
        "    ax3.plot(t,term3, c=\"orange\", label=\"第3項\")\n",
        "    ax3.legend()\n",
        "    # ax3.set_ylim([-1.5, 1.5])\n",
        "    plt.show()"
      ],
      "execution_count": null,
      "outputs": []
    },
    {
      "cell_type": "code",
      "metadata": {
        "id": "92M8xzgkrtoF"
      },
      "source": [
        ""
      ],
      "execution_count": null,
      "outputs": []
    },
    {
      "cell_type": "markdown",
      "metadata": {
        "id": "2unZriRRruc-"
      },
      "source": [
        "##PD制御について復讐\n",
        "PD制御\n",
        "$C(s)=K_P + K_Ds$\n",
        "をかけた閉ループ伝達関数は\n",
        "$$\\frac{C(s)P(s)}{1+C(s)P(s)}=\\frac{7K_Ds + 7K_P}{s^2 + 7K_Ds + 7K_P}$$\n",
        "であり，その極は分母多項式から，\n",
        "$$s=-3.5Kd \\pm \\sqrt{12.25K_D^2 - 7K_P}$$\n",
        "となりました．これは判別式$D=12.25K_D^2-7K_P$によって3つに場合わけされます．\n",
        "\n",
        "1.   $D<0$ 極が極が虚数成分を持つ\n",
        "$$s = -3.5K_D \\pm j \\sqrt{7K_P - 12.25K_D^2}$$\n",
        "2.   $D=0$　極が重根\n",
        "$$s = -3.5K_D $$\n",
        "3.   $D>0$　極が異なる二つの実数\n",
        "$$s = -3.5K_D \\pm j \\sqrt{12.25K_D^2 - 7K_P}$$\n",
        "\n",
        "##PD制御のステップ応答について復讐\n",
        "そして，ステップ応答は\n",
        "$$\\frac{7K_Ds + 7K_P}{s(s^2 + 7K_Ds + 7K_P)}=\\frac{1}{s}-\\frac{1}{s^2 + 7K_Ds + 7K_P}$$\n",
        "となり，ステップ応答の時間領域での式も判別式によって3つに別れました．\n",
        "1.   $D<0$ 極が極が虚数成分を持つ\n",
        "$$x(t) = 1 - e^{-3.5K_Dt} \\big(\\cos{\\omega t} - \\frac{3.5K_D}{\\omega}\\sin{\\omega t} \\big) =  1 - e^{-3.5K_Dt} \\cos{\\omega t} + e^{-3.5K_Dt} \\frac{3.5K_D}{\\omega}\\sin{\\omega t} $$\n",
        "$$\\big( \\omega = \\sqrt{7K_P - 12.25K_D^2} \\big)$$\n",
        "2.   $D=0$　極が重根\n",
        "$$x(t)=1-e^{-3.5K_D t}(1-3.5K_D t)$$\n",
        "3.   $D>0$　極が異なる二つの実数\n",
        "$$1-\\frac{1}{2 \\beta}(p_1 e^{p_1 t} - p_2 e^{p_2 t})$$\n",
        "\n",
        "$$= 1 + \\frac{3.5K_D - \\sqrt{12.25K_D^2 - 7K_P}}{2 \\sqrt{12.25K_D^2 -7K_P}} e^{-3.5K_D + \\sqrt{12.25K_D^2 - 7K_P}} - \\frac{3.5K_D + \\sqrt{12.25K_D^2 - 7K_P}}{2 \\sqrt{12.25K_D^2 -7K_P}} e^{-(3.5K_D + \\sqrt{12.25K_D^2 - 7K_P})}$$\n",
        "\n"
      ]
    },
    {
      "cell_type": "code",
      "metadata": {
        "id": "Jk-YfKIV-VeD"
      },
      "source": [
        "Kp = 0.4\n",
        "Kd = 0.1\n",
        "t = np.linspace(0, 10, 1000)\n",
        "term1, term2, term3, term21, term22, term31, term32 = function(t, Kp, Kd)\n",
        "plot_terms(t, term1, term2, term3, term21, term22, term31, term32)"
      ],
      "execution_count": null,
      "outputs": []
    },
    {
      "cell_type": "code",
      "metadata": {
        "id": "dXRYCzQ2-VZU"
      },
      "source": [
        ""
      ],
      "execution_count": null,
      "outputs": []
    },
    {
      "cell_type": "code",
      "metadata": {
        "id": "SXFdjZQQ-VFP"
      },
      "source": [
        ""
      ],
      "execution_count": null,
      "outputs": []
    },
    {
      "cell_type": "code",
      "metadata": {
        "id": "yH_PnuOCDPpm"
      },
      "source": [
        ""
      ],
      "execution_count": null,
      "outputs": []
    },
    {
      "cell_type": "code",
      "metadata": {
        "id": "xPfKqA3EAQwI"
      },
      "source": [
        ""
      ],
      "execution_count": null,
      "outputs": []
    },
    {
      "cell_type": "code",
      "metadata": {
        "id": "P0bSFEmYHQEI"
      },
      "source": [
        "\n",
        "\n",
        "\n",
        "fig = plt.figure()\n",
        "\n",
        "ims = []\n",
        "for a in range(100):\n",
        "    Kp = 0.4\n",
        "    Kd = round(0.01*a, 4)\n",
        "    t = np.linspace(0, 10, 1000)\n",
        "    term1, term2, term3, term21, term22, term31, term32 = function(t, Kp, Kd, show_D=False)\n",
        "    line, = plt.plot(t, term1, ls=\"--\", c=\"violet\")\n",
        "    line2, = plt.plot(t, term2, ls=\"--\", c=\"green\")\n",
        "    line3, = plt.plot(t, term3, ls=\"--\", c=\"orange\")\n",
        "    line4, = plt.plot(t, term1+term2+term3, c=\"black\")\n",
        "    plt.ylim([-1.2,2.3])\n",
        "    text = plt.text(2,2.2, \"Kp = \" + str(Kp) + \"  Kd = \" + str(Kd), fontsize=20)\n",
        "    ims.append([line, line2, line3, line4, text])\n",
        "\n",
        "ani = animation.ArtistAnimation(fig, ims)\n",
        "rc('animation', html='jshtml')\n",
        "plt.close()\n",
        "ani\n"
      ],
      "execution_count": null,
      "outputs": []
    },
    {
      "cell_type": "code",
      "metadata": {
        "id": "YRelOJwdI6r9"
      },
      "source": [
        ""
      ],
      "execution_count": null,
      "outputs": []
    },
    {
      "cell_type": "code",
      "metadata": {
        "id": "mdlMGPJsI6nh"
      },
      "source": [
        ""
      ],
      "execution_count": null,
      "outputs": []
    },
    {
      "cell_type": "code",
      "metadata": {
        "id": "Z1ZUh4RiEy-r"
      },
      "source": [
        "print(np.sqrt(7*Kp/12.25))\n",
        "f = np.sqrt(7*Kp) / (2*np.pi)\n",
        "print(1/f)"
      ],
      "execution_count": null,
      "outputs": []
    },
    {
      "cell_type": "code",
      "metadata": {
        "id": "LuWc9swUJBkb"
      },
      "source": [
        ""
      ],
      "execution_count": null,
      "outputs": []
    }
  ]
}