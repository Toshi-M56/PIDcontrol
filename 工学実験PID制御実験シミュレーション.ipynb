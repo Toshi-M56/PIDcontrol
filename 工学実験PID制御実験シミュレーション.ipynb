{
  "nbformat": 4,
  "nbformat_minor": 0,
  "metadata": {
    "colab": {
      "name": "工学実験PID制御実験シミュレーション.ipynb",
      "provenance": [],
      "collapsed_sections": [],
      "authorship_tag": "ABX9TyOVLWsw30mr0heW4Wh3Dczm",
      "include_colab_link": true
    },
    "kernelspec": {
      "name": "python3",
      "display_name": "Python 3"
    },
    "language_info": {
      "name": "python"
    }
  },
  "cells": [
    {
      "cell_type": "markdown",
      "metadata": {
        "id": "view-in-github",
        "colab_type": "text"
      },
      "source": [
        "<a href=\"https://colab.research.google.com/github/Toshi-M56/PIDcontrol/blob/main/%E5%B7%A5%E5%AD%A6%E5%AE%9F%E9%A8%93PID%E5%88%B6%E5%BE%A1%E5%AE%9F%E9%A8%93%E3%82%B7%E3%83%9F%E3%83%A5%E3%83%AC%E3%83%BC%E3%82%B7%E3%83%A7%E3%83%B3.ipynb\" target=\"_parent\"><img src=\"https://colab.research.google.com/assets/colab-badge.svg\" alt=\"Open In Colab\"/></a>"
      ]
    },
    {
      "cell_type": "markdown",
      "metadata": {
        "id": "0I9gPZ58KIjL"
      },
      "source": [
        "# アクチュエーターのPID制御　実験シミュレーション\n",
        "\n",
        "ここでは，電気電子工学実験2テーマ５　アクチュエータのPID制御の実験についてシミュレーションをしていきます．  \n",
        "\n",
        "ちなみにこのホームページは[Colaboratory](https://colab.research.google.com/notebooks/intro.ipynb?hl=ja)と呼ばれるGoogleが提供するサービスで，  \n",
        "Googleが提供するサーバを使って自由にPythonプログラムを記述・実行することができます．  \n",
        "Webブラウザさえあればいいため，環境構築の手間がなく，  \n",
        "PCのスペックが低くてもネット環境さえあれば本格的なPythonプログラムを作成して実行することができます．"
      ]
    },
    {
      "cell_type": "markdown",
      "metadata": {
        "id": "5vqggEAmLArh"
      },
      "source": [
        "## 使い方\n",
        "まず初めに，このページの使い方を簡単に学んでいきましょう．\n",
        "すぐ下に灰色の四角いボックスがあると思います．\n",
        "ここに，Pythonのプログラムを書いていきます．\n",
        "\n",
        "すぐ下のセル（灰色の枠）をクリックして「Shiftを押しながらEnter」とキーボードを打ってみてください．\n"
      ]
    },
    {
      "cell_type": "code",
      "metadata": {
        "id": "IebdJKqrbaFs"
      },
      "source": [
        "x = 1\n",
        "print(x)"
      ],
      "execution_count": null,
      "outputs": []
    },
    {
      "cell_type": "markdown",
      "metadata": {
        "id": "z1BGdsGqPww4"
      },
      "source": [
        "「1」と表示されたと思います．\n",
        "\n",
        "これで\n",
        "*   xという変数に1を代入\n",
        "*   xの中身を画面に表示\n",
        "\n",
        "という二つの命令を実行するプログラムを動かしたことになります．\n",
        "\n",
        "このように，非常に簡単にPythonを実行できるのができるのがColaboratoryの便利なところです．"
      ]
    },
    {
      "cell_type": "markdown",
      "metadata": {
        "id": "6JprUpOVgath"
      },
      "source": [
        "ちなみに，「#〜〜〜」でコメントアウトができます．\n",
        "\n",
        "この部分はプログラムとして実行されないため，メモ書きとして利用できます．\n",
        "\n",
        "以降のプログラムには，理解しやすいように時々メモ書きを残しておきますので，ご活用ください．"
      ]
    },
    {
      "cell_type": "code",
      "metadata": {
        "id": "iay1biHigOaY"
      },
      "source": [
        "# 2たす3を実行します\n",
        "x = 2 + 3\n",
        "print(x)"
      ],
      "execution_count": null,
      "outputs": []
    },
    {
      "cell_type": "markdown",
      "metadata": {
        "id": "U-rAGSkfFDrN"
      },
      "source": [
        "## シミュレーションの準備\n",
        "プログラムが書けると，コンピューターに様々な処理を実行させることができます．しかし，膨大なプログラムの全ての処理を自分で書くのは大変です．そこで，ライブラリというすでに出来上がったプログラムを導入すると効率よくプログラムを作れます．\n",
        "\n",
        "下のセルを実行してください．\n",
        "\n",
        "「!pip 〜〜〜」という部分では，ライブラリをダウンロードし，\n",
        "\n",
        "「import XXXXX as xx」という部分では，XXXXXというライブラリををxxという短い名前で使えるように導入しています．\n",
        "\n",
        "細かいところは，今日は気にしないで大丈夫です．"
      ]
    },
    {
      "cell_type": "code",
      "metadata": {
        "id": "QLfmADambZy0"
      },
      "source": [
        "!pip install control\n",
        "!pip install japanize_matplotlib\n",
        "import numpy as np\n",
        "from control import matlab\n",
        "from matplotlib import pyplot as plt\n",
        "import japanize_matplotlib\n",
        "plt.style.use('bmh')"
      ],
      "execution_count": null,
      "outputs": []
    },
    {
      "cell_type": "markdown",
      "metadata": {
        "id": "490F4Z4TaJ7x"
      },
      "source": [
        "これで，\n",
        "\n",
        "*   numpy (np) : 数値計算のためのライブラリ\n",
        "*   matlab  : 制御に関するライブラリ\n",
        "*   pyplot (plt) : グラフ表示に関するライブラリ\n",
        "*   japanize_matplotlib (グラフに日本語を使うためのもの)\n",
        "\n",
        "というライブラリを導入することができました．．\n",
        "\n",
        "\n",
        "それでは早速matlab.tf()を使って以下のような伝達関数モデルを作りましょう．\n",
        "$$ \\frac{2}{s + 3} $$\n",
        "以下を実行してください．"
      ]
    },
    {
      "cell_type": "code",
      "metadata": {
        "id": "669Ce9Mdg19V"
      },
      "source": [
        "# ()内の[2]とか[1, 3]は，伝達関数の分子と分母の係数を意味しています．\n",
        "G = matlab.tf([2], [1, 3]) \n",
        "print(G)"
      ],
      "execution_count": null,
      "outputs": []
    },
    {
      "cell_type": "markdown",
      "metadata": {
        "id": "WisK-7a_fE20"
      },
      "source": [
        "このように，Gという変数に\n",
        "$$\\frac{2}{s+3}$$\n",
        "という伝達関数を代入することができました．\n",
        "\n",
        "そして，この関数のステップ応答を調べるには次のように実行します．"
      ]
    },
    {
      "cell_type": "code",
      "metadata": {
        "id": "N2z_SN43cLJW"
      },
      "source": [
        "# 0から5までを1000刻みに分割した数列をtに代入．\n",
        "# つまり0sからから5sまでの時間．気になる人は人はprint(t)してみてください．\n",
        "t = np.linspace(0, 10, 1000) \n",
        "\n",
        "# matlab.step()はステップ応答を求める関数．()の中には伝達関数Gと時間の数列tを入れます．\n",
        "# すると，制御量(yout)と時間(T)が得られます．(Tはtと同じです)\n",
        "yout, T = matlab.step(G, t) \n",
        "\n",
        "# plt.plot()はグラフをプロットします．\n",
        "# ()の中にはx軸の値とy軸の値が入ります．ここではTとyoutですね．\n",
        "plt.plot(T, yout)  \n",
        "plt.show() #plt.show()でグラフを画面に表示します．"
      ],
      "execution_count": null,
      "outputs": []
    },
    {
      "cell_type": "markdown",
      "metadata": {
        "id": "LS5vtpRVjRmO"
      },
      "source": [
        "一連のコードをまとめると以下のようになります．\n",
        "色々な伝達関数のステップ応答を試してみてもいいかもしれません．"
      ]
    },
    {
      "cell_type": "code",
      "metadata": {
        "id": "47aiAE3BiLsv"
      },
      "source": [
        "numerator = [6] # 分子\n",
        "denominator = [1, 2, 6] # 分母\n",
        "G = matlab.tf(numerator, denominator) \n",
        "print(G)\n",
        "t = np.linspace(0, 10, 1000) \n",
        "yout, T = matlab.step(G, t) \n",
        "plt.plot(T, yout)  \n",
        "plt.show() "
      ],
      "execution_count": null,
      "outputs": []
    },
    {
      "cell_type": "markdown",
      "metadata": {
        "id": "PxfSIohSiQPk"
      },
      "source": [
        "さて，このように伝達関数Gからステップ応答を求め，グラフを描写する処理を何度も書くのも面倒なので，\n",
        "\n",
        "関数にまとめてしまいましょう．\n",
        "そこで，次のようなplot_step_response()という関数を作りました．\n",
        "\n",
        "()の中に伝達関数Gを入れるだけで，ステップ応答をグラフにしてくれます．\n",
        "追加機能としてP制御とD制御の操作量をプロットできるようにしています．\n",
        "\n",
        "興味がある人は中身を読んでみてください．"
      ]
    },
    {
      "cell_type": "code",
      "metadata": {
        "id": "_ZNP6rhrbtTc"
      },
      "source": [
        "def plot_step_response(G, control=None, time=5, n_step=1000):\n",
        "    t = np.linspace(0, time, n_step) #時間の数列を作る time秒間を n_step分割で\n",
        "    yout, T = matlab.step(G, t)  # ステップ応答を求める\n",
        "    d_yout = (yout[1:] - yout[:-1])/(time/n_step) #位置の情報youtから 速度の情報情報d_youtを求める\n",
        "\n",
        "    fig = plt.figure(figsize=(6,6)) # figureを生成\n",
        "    ax = fig.add_subplot(211) # figureにsubplot(ax)を追加\n",
        "    ax.plot(T, yout, c=\"blue\", label=\"位置\") # axにyout(位置)をプロット\n",
        "    ax.legend(loc=\"upper right\") # 凡例を表示する\n",
        "    ax.axhline(1, color=\"black\", linestyle=\"--\") # 目標値を示す水平線をプロット\n",
        "    ax.set_ylabel(\"位置\", fontsize=20) # 位置の軸ラベルを表示する\n",
        "    ax_v = ax.twinx() # 右側に速度グラフ用の軸を設けて subplot(ax_v)を重ねて追加\n",
        "    ax_v.plot(T[1:], d_yout, c=\"r\", label=\"速度\") # d_yout(速度)をプロット\n",
        "    ax_v.axhline(0, color=\"black\", linestyle=\":\") # 速度0を示す水平線をプロット\n",
        "    ax_v.set_ylabel(\"速度\", fontsize=20) # 速度の軸ラベルを右の軸に表示\n",
        "    ax_v.legend(loc=\"lower right\") # 速度グラフの凡例を表示\n",
        "\n",
        "    # ifの中は　P制御，PD制御の場合に操作量をプロットするためのもの．\n",
        "    if control == \"P\" or control == \"PD\":\n",
        "        ax2 = fig.add_subplot(212) # 新たなsubplot(ax2)を追加\n",
        "        p_mvalue = (1-yout)*Kp # P制御の操作量を求める\n",
        "        ax2.plot(T,p_mvalue, c=\"blueviolet\", label=\"P制御\") # P制御の操作量をプロット\n",
        "        if control == \"PD\": # もしPD制御だったら\n",
        "            d_mvalue = -d_yout*Kd # D制御の操作量を求める\n",
        "            ax2.plot(T[:-1],d_mvalue, c=\"orange\", label=\"D制御\") # D制御の操作量をプロット\n",
        "            ax2.plot(T[:-1],p_mvalue[:-1] + d_mvalue, c=\"green\", label=\"PD制御\") #PD制御の操作量をプロット\n",
        "        ax2.axhline(0, color=\"black\", linestyle=\"--\") # 操作量0を示す水平線をプロット\n",
        "        ax2.set_ylabel(\"操作量\", fontsize=20) # 操作量の軸ラベルを表示\n",
        "        ax2.legend() # 凡例を表示する\n",
        "        ax2.set_xlabel(\"時間[s]\", fontsize=20) # 横軸に時間の軸ラベルを表示\n",
        "    plt.show() # 作成したグラフを表示"
      ],
      "execution_count": null,
      "outputs": []
    },
    {
      "cell_type": "markdown",
      "metadata": {
        "id": "uUIqADyYucX9"
      },
      "source": [
        "## P制御のシミュレーション\n",
        "それではさっそくP制御のシミュレーションを実行していきましょう．\n",
        "\n",
        "実験テキストのモデル式から導き出した制御対象の伝達関数は\n",
        "$$P(s)=\\frac{7}{s^2}$$\n",
        "でした．\n",
        "ここに，P制御\n",
        "$$C(s)=K_p$$\n",
        "をかけて閉ループ伝達関数を求めると\n",
        "$$\\frac{C(s)P(s)}{1+C(s)P(s)}=\\frac{7K_p}{s^2 + 7K_p}$$\n",
        "となるのでした．そこでひとまず\n",
        "$$K_p=0.2$$\n",
        "とし，この伝達関数のステップ応答を求めてみます．"
      ]
    },
    {
      "cell_type": "code",
      "metadata": {
        "id": "FrBhwlj7b6nY"
      },
      "source": [
        "Kp = 0.2\n",
        "G = matlab.tf([7*Kp], [1, 0, 7*Kp])\n",
        "print(\"伝達関数G(s) \", G)\n",
        "\n",
        "plot_step_response(G, control=\"P\", time=10)\n",
        "\n"
      ],
      "execution_count": null,
      "outputs": []
    },
    {
      "cell_type": "markdown",
      "metadata": {
        "id": "jJOqRvWR0qxO"
      },
      "source": [
        "グラフが表示されたと思います．それぞれ\n",
        "\n",
        "青：位置，　赤：速度，　黒：目標位置　紫：P制御の操作量\n",
        "\n",
        "となっています．\n",
        "グラフから気がつくことはありますか？\n",
        "\n",
        "次の点についてグラフを観察しながら考えてみてください．\n",
        "\n",
        "*   位置とP制御の操作量の関係\n",
        "*   波形の周期ととKpの関係\n",
        "*   位置と速度の関係\n",
        "*   なぜ鋼球は止まらないのか，操作量の観点から考えてみる．\n",
        "\n",
        "また，Kpの値を0.2, 0.4, 0.6, 0.8, 1.0と変えていくと何が起きますか？\n",
        "\n"
      ]
    },
    {
      "cell_type": "markdown",
      "metadata": {
        "id": "6GqRV5-w2YX2"
      },
      "source": [
        "##PD制御のシミュレーション\n",
        "次に，PD制御のシミュレーションを実行していきましょう．\n",
        "\n",
        "制御対象に，PD制御\n",
        "$$C(s)=K_p + K_ds$$\n",
        "をかけて閉ループ伝達関数を求めると\n",
        "$$\\frac{C(s)P(s)}{1+C(s)P(s)}=\\frac{7K_ds + 7K_p}{s^2 + 7K_ds + 7K_p}$$\n",
        "となるのでした．そこでひとまず\n",
        "$$K_p=0.4, K_d=0.1$$\n",
        "とし，この伝達関数のステップ応答を求めてみます．"
      ]
    },
    {
      "cell_type": "code",
      "metadata": {
        "id": "pZ4bcXnLdgqa"
      },
      "source": [
        "Kp = 0.4\n",
        "Kd = 0.2\n",
        "G = matlab.tf([7*Kd, 7*Kp], [1, 7*Kd, 7*Kp])\n",
        "print(\"伝達関数G(s) \", G)\n",
        "\n",
        "plot_step_response(G, control=\"PD\", time=10)"
      ],
      "execution_count": null,
      "outputs": []
    },
    {
      "cell_type": "markdown",
      "metadata": {
        "id": "jNVB_gS825N2"
      },
      "source": [
        "グラフが表示されたと思います．それぞれ\n",
        "\n",
        "青：位置，　赤：速度，　黒：目標位置　紫：P制御の操作量，　橙：D制御の操作量，　緑：PD制御の操作量\n",
        "\n",
        "となっています．\n",
        "グラフから気がつくことはありますか？\n",
        "\n",
        "次の点についてグラフを観察しながら考えてみてください．\n",
        "\n",
        "*   位置とP制御の操作量の関係\n",
        "*   速度とD制御の操作量の関係\n",
        "*   P制御，D制御，PD制御それぞれの関係\n",
        "*   ステップ応答が振動しなくなる時（振動限界）の条件はなんですか？\n",
        "*   $K_P=0.4$の時振動限界を迎えるを迎える$K_D$の値を値をPythonで求めてみましょう．\n",
        "\n",
        "また，Kdの値を0.1, 0.2, 0.3, 0.4, 0.478, 0.5, 0.6と変えていくと何が起きますか？"
      ]
    },
    {
      "cell_type": "code",
      "metadata": {
        "id": "C37sylwkfUdq"
      },
      "source": [
        ""
      ],
      "execution_count": null,
      "outputs": []
    },
    {
      "cell_type": "code",
      "metadata": {
        "id": "UbdGsKy20l83"
      },
      "source": [
        ""
      ],
      "execution_count": null,
      "outputs": []
    },
    {
      "cell_type": "code",
      "metadata": {
        "id": "1UzC3LLH0lz8"
      },
      "source": [
        ""
      ],
      "execution_count": null,
      "outputs": []
    },
    {
      "cell_type": "code",
      "metadata": {
        "id": "MRmCiiZd-Vlp"
      },
      "source": [
        ""
      ],
      "execution_count": null,
      "outputs": []
    },
    {
      "cell_type": "code",
      "metadata": {
        "id": "gac-dVGt-Vh2"
      },
      "source": [
        "def function(t, Kp, Kd, show_D=True):\n",
        "    D = 12.25*Kd**2 - 7*Kp\n",
        "\n",
        "    if abs(D) < 1e-10:\n",
        "        if show_D:print(\"D=\" + str(D) + \" :D = 0\")\n",
        "        term1 = np.ones(t.shape)\n",
        "        term21 = -np.ones(t.shape)\n",
        "        term22 = np.exp(-3.5*Kd*t) \n",
        "        term2 = term21 * term22\n",
        "        term31 = -np.ones(t.shape) * (-3.5*Kd*t)\n",
        "        term32 = np.exp(-3.5*Kd*t) \n",
        "        term3 =  term31 * term32\n",
        "    elif D > 0:\n",
        "        if show_D:print(\"D=\" + str(D) + \" :D > 0\")\n",
        "        beta = np.sqrt(12.25*Kd**2 - 7*Kp)\n",
        "        # print(Kp, Kd, beta)\n",
        "        p1 = -3.5*Kd + beta\n",
        "        p2 = -3.5*Kd - beta\n",
        "        # return 1 - (1 / (2*beta))* (p1*np.exp(p1*t) - p2*np.exp(p2*t))\n",
        "        term1 = np.ones(t.shape)\n",
        "        term21 = -(1 / (2*beta)) *term1\n",
        "        term22 = p1*np.exp(p1*t) \n",
        "        term2 = term21 * term22\n",
        "        term31 =  (1 / (2*beta)) *term1\n",
        "        term32 =  p2*np.exp(p2*t)\n",
        "        term3 =  term31 * term32\n",
        "    elif D < 0:\n",
        "        if show_D:print(\"D=\" + str(D) + \" :D < 0\")\n",
        "        omega = np.sqrt(-12.25*Kd**2 + 7*Kp)\n",
        "        # return 1 - np.exp(-3.5*Kd*t) * (np.cos(omega*t) - (3.5*Kd/omega)*np.sin(omega*t))\n",
        "        term1 = np.ones(t.shape)\n",
        "        term21 = -np.cos(omega*t)\n",
        "        term22 = np.exp(-3.5*Kd*t)\n",
        "        term2 = term21 * term22\n",
        "        term31 =  (3.5*Kd/omega)*np.sin(omega*t)\n",
        "        term32 =  np.exp(-3.5*Kd*t) \n",
        "        term3 = term31 * term32\n",
        "    return term1, term2, term3, term21, term22, term31, term32"
      ],
      "execution_count": null,
      "outputs": []
    },
    {
      "cell_type": "code",
      "metadata": {
        "id": "TKqkWDYuDjkr"
      },
      "source": [
        "def plot_terms(t, term1, term2, term3, term21, term22, term31, term32):\n",
        "    fig = plt.figure(figsize=(6,10))\n",
        "    ax = fig.add_subplot(311)\n",
        "    ax.plot(t,term1, c=\"violet\",ls=\"--\", label=\"第1項\")\n",
        "    ax.plot(t,term2, c=\"green\", ls=\"--\", label=\"第2項\")\n",
        "    ax.plot(t,term3, c=\"orange\", ls=\"--\", label=\"第3項\")\n",
        "    ax.plot(t,term1+term2+term3, c=\"black\", label=\"位置\")\n",
        "    ax.set_ylim([-0.5, 1.7])\n",
        "    ax.legend()\n",
        "    ax2 = fig.add_subplot(312)\n",
        "    ax2.plot(t,term21, ls=\"--\", label=\"term21\")\n",
        "    ax2.plot(t,term22, ls=\"--\", label=\"term22\")\n",
        "    ax2.plot(t,term2, c=\"green\", label=\"第2項\")\n",
        "    ax2.legend()\n",
        "    # ax2.set_ylim([-1.5, 1.5])\n",
        "    ax3 = fig.add_subplot(313)\n",
        "    ax3.plot(t,term31, ls=\"--\", label=\"term31\")\n",
        "    ax3.plot(t,term32, ls=\"--\", label=\"term32\")\n",
        "    ax3.plot(t,term3, c=\"orange\", label=\"第3項\")\n",
        "    ax3.legend()\n",
        "    # ax3.set_ylim([-1.5, 1.5])\n",
        "    plt.show()"
      ],
      "execution_count": null,
      "outputs": []
    },
    {
      "cell_type": "code",
      "metadata": {
        "id": "92M8xzgkrtoF"
      },
      "source": [
        ""
      ],
      "execution_count": null,
      "outputs": []
    },
    {
      "cell_type": "markdown",
      "metadata": {
        "id": "2unZriRRruc-"
      },
      "source": [
        "##PD制御について復讐\n",
        "PD制御\n",
        "$C(s)=K_P + K_Ds$\n",
        "をかけた閉ループ伝達関数は\n",
        "$$\\frac{C(s)P(s)}{1+C(s)P(s)}=\\frac{7K_Ds + 7K_P}{s^2 + 7K_Ds + 7K_P}$$\n",
        "であり，その極は分母多項式から，\n",
        "$$s=-3.5Kd \\pm \\sqrt{12.25K_D^2 - 7K_P}$$\n",
        "となりました．これは判別式$D=12.25K_D^2-7K_P$によって3つに場合わけされます．\n",
        "\n",
        "1.   $D<0$ 極が極が虚数成分を持つ\n",
        "$$s = -3.5K_D \\pm j \\sqrt{7K_P - 12.25K_D^2}$$\n",
        "2.   $D=0$　極が重根\n",
        "$$s = -3.5K_D $$\n",
        "3.   $D>0$　極が異なる二つの実数\n",
        "$$s = -3.5K_D \\pm j \\sqrt{12.25K_D^2 - 7K_P}$$\n",
        "\n",
        "##PD制御のステップ応答について復讐\n",
        "そして，ステップ応答は\n",
        "$$\\frac{7K_Ds + 7K_P}{s(s^2 + 7K_Ds + 7K_P)}=\\frac{1}{s}-\\frac{1}{s^2 + 7K_Ds + 7K_P}$$\n",
        "となり，ステップ応答の時間領域での式も判別式によって3つに別れました．\n",
        "1.   $D<0$ 極が極が虚数成分を持つ\n",
        "$$x(t) = 1 - e^{-3.5K_Dt} \\big(\\cos{\\omega t} - \\frac{3.5K_D}{\\omega}\\sin{\\omega t} \\big) =  1 - e^{-3.5K_Dt} \\cos{\\omega t} + e^{-3.5K_Dt} \\frac{3.5K_D}{\\omega}\\sin{\\omega t} $$\n",
        "$$\\big( \\omega = \\sqrt{7K_P - 12.25K_D^2} \\big)$$\n",
        "2.   $D=0$　極が重根\n",
        "$$x(t)=1-e^{-3.5K_D t}(1-3.5K_D t)$$\n",
        "3.   $D>0$　極が異なる二つの実数\n",
        "$$1-\\frac{1}{2 \\beta}(p_1 e^{p_1 t} - p_2 e^{p_2 t})$$\n",
        "\n",
        "$$= 1 + \\frac{3.5K_D - \\sqrt{12.25K_D^2 - 7K_P}}{2 \\sqrt{12.25K_D^2 -7K_P}} e^{-3.5K_D + \\sqrt{12.25K_D^2 - 7K_P}} - \\frac{3.5K_D + \\sqrt{12.25K_D^2 - 7K_P}}{2 \\sqrt{12.25K_D^2 -7K_P}} e^{-(3.5K_D + \\sqrt{12.25K_D^2 - 7K_P})}$$\n",
        "\n"
      ]
    },
    {
      "cell_type": "code",
      "metadata": {
        "id": "Jk-YfKIV-VeD"
      },
      "source": [
        "Kp = 0.4\n",
        "Kd = 0.1\n",
        "t = np.linspace(0, 10, 1000)\n",
        "term1, term2, term3, term21, term22, term31, term32 = function(t, Kp, Kd)\n",
        "plot_terms(t, term1, term2, term3, term21, term22, term31, term32)"
      ],
      "execution_count": null,
      "outputs": []
    },
    {
      "cell_type": "code",
      "metadata": {
        "id": "dXRYCzQ2-VZU"
      },
      "source": [
        ""
      ],
      "execution_count": null,
      "outputs": []
    },
    {
      "cell_type": "code",
      "metadata": {
        "id": "Z1ZUh4RiEy-r"
      },
      "source": [
        "print(np.sqrt(7*Kp/12.25))\n",
        "f = np.sqrt(7*Kp) / (2*np.pi)\n",
        "print(1/f)\n",
        "print(1)"
      ],
      "execution_count": null,
      "outputs": []
    },
    {
      "cell_type": "code",
      "metadata": {
        "id": "SXFdjZQQ-VFP"
      },
      "source": [
        ""
      ],
      "execution_count": null,
      "outputs": []
    },
    {
      "cell_type": "code",
      "metadata": {
        "id": "yH_PnuOCDPpm"
      },
      "source": [
        ""
      ],
      "execution_count": null,
      "outputs": []
    },
    {
      "cell_type": "code",
      "metadata": {
        "id": "xPfKqA3EAQwI"
      },
      "source": [
        ""
      ],
      "execution_count": null,
      "outputs": []
    },
    {
      "cell_type": "code",
      "metadata": {
        "id": "P0bSFEmYHQEI"
      },
      "source": [
        "import numpy as np\n",
        "import matplotlib.pyplot as plt\n",
        "from matplotlib import animation, rc\n",
        "from IPython.display import HTML\n",
        "\n",
        "\n",
        "fig = plt.figure()\n",
        "\n",
        "ims = []\n",
        "for a in range(100):\n",
        "    Kp = 0.4\n",
        "    Kd = round(0.01*a, 4)\n",
        "    t = np.linspace(0, 10, 1000)\n",
        "    term1, term2, term3, term21, term22, term31, term32 = function(t, Kp, Kd, show_D=False)\n",
        "    line, = plt.plot(t, term1, ls=\"--\", c=\"violet\")\n",
        "    line2, = plt.plot(t, term2, ls=\"--\", c=\"green\")\n",
        "    line3, = plt.plot(t, term3, ls=\"--\", c=\"orange\")\n",
        "    line4, = plt.plot(t, term1+term2+term3, c=\"black\")\n",
        "    plt.ylim([-1.2,2.3])\n",
        "    text = plt.text(2,2.2, \"Kp = \" + str(Kp) + \"  Kd = \" + str(Kd), fontsize=20)\n",
        "    ims.append([line, line2, line3, line4, text])\n",
        "\n",
        "ani = animation.ArtistAnimation(fig, ims)\n",
        "rc('animation', html='jshtml')\n",
        "plt.close()\n",
        "ani\n"
      ],
      "execution_count": null,
      "outputs": []
    }
  ]
}